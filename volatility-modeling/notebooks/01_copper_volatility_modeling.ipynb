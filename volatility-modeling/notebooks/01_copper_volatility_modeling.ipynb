# Project 1 — Volatility Modeling of Copper Markets 🚀
# Using Quandl (Nasdaq Data Link) API

# --- Imports ---
import pandas as pd
import numpy as np
import matplotlib.pyplot as plt
import quandl
from arch import arch_model

# --- Step 1: Configure Quandl API ---
quandl.ApiConfig.api_key = 'mybPqpX_oRUyyX6vcmtQ'

# --- Step 2: Data Acquisition ---
# Using COMEX Copper continuous futures: CHRIS/CME_HG1
# https://data.nasdaq.com/data/CHRIS

symbol = 'CHRIS/CME_HG1'

# Define date range (10 years)
start_date = '2013-01-01'
end_date = '2025-06-01'

# Download data
df = quandl.get(symbol, start_date=start_date, end_date=end_date)

# Preview data
print(df.head())

# --- Step 3: Data Cleaning ---

# We'll use the 'Settle' price for volatility modeling
df['Settle'].plot(figsize=(12, 6), title='COMEX Copper Futures (Settle Price)', ylabel='USD per lb')
plt.show()

# Calculate daily returns
df['Return'] = df['Settle'].pct_change().dropna()

# Plot returns
df['Return'].plot(figsize=(12, 6), title='Copper Futures Daily Returns', ylabel='Return')
plt.show()

# --- Step 4: Volatility Modeling ---

# 1️⃣ Rolling standard deviation (historical vol)
window = 21  # ~1-month window
df['Rolling Vol'] = df['Return'].rolling(window).std() * np.sqrt(252)  # annualized vol

# 2️⃣ EWMA volatility
lambda_ = 0.94
df['EWMA Vol'] = df['Return'].ewm(span=(2 / (1 - lambda_) - 1)).std() * np.sqrt(252)

# 3️⃣ GARCH(1,1) model
returns = df['Return'].dropna() * 100  # GARCH expects returns in %
garch_model = arch_model(returns, vol='Garch', p=1, q=1)
garch_fitted = garch_model.fit(disp='off')

df['GARCH Vol'] = np.sqrt(garch_fitted.conditional_volatility) * np.sqrt(252) / 100  # back to decimal

# --- Step 5: Visualization ---

plt.figure(figsize=(14, 8))
df['Rolling Vol'].plot(label='Rolling Vol (21d)', linewidth=2)
df['EWMA Vol'].plot(label='EWMA Vol (lambda=0.94)', linewidth=2)
df['GARCH Vol'].plot(label='GARCH(1,1) Vol', linewidth=2)
plt.title('Copper Futures Volatility — Various Models')
plt.ylabel('Annualized Volatility')
plt.legend()
plt.show()

# --- Step 6: Interpretation ---

print("Final insights:")
print(f"- Data range: {df.index.min().date()} to {df.index.max().date()}")
print("- Rolling Vol shows short-term volatility cycles")
print("- EWMA Vol reacts faster to recent market moves")
print("- GARCH Vol captures volatility clustering and persistence")
print("→ This is key knowledge for options pricing, risk management, and trading sizing in metals markets!")

